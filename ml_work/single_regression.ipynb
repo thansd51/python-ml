{
 "cells": [
  {
   "cell_type": "code",
   "execution_count": 1,
   "id": "c01d1cc7-4255-4b16-b0bb-57ffadea5885",
   "metadata": {},
   "outputs": [],
   "source": [
    " import numpy as np"
   ]
  },
  {
   "cell_type": "code",
   "execution_count": 2,
   "id": "d35ecb6c-fcbe-49ba-bd76-f23a6d6c62c9",
   "metadata": {},
   "outputs": [],
   "source": [
    "x_data = np.array([1, 2, 3, 4, 5]).reshape(5, 1)\n",
    "t_data = np.array([3, 4, 5, 6, 7]).reshape(5, 1)\n",
    "# y = x+2, w=1, b=2"
   ]
  },
  {
   "cell_type": "code",
   "execution_count": 13,
   "id": "38cb75a5-c6c7-4a27-baf1-3dbecbe08ef2",
   "metadata": {},
   "outputs": [
    {
     "name": "stdout",
     "output_type": "stream",
     "text": [
      "W = [[0.39360485]] b = [0.45721355]\n"
     ]
    }
   ],
   "source": [
    "W = np.random.rand(1, 1)\n",
    "b = np.random.rand(1)\n",
    "print(\"W =\", W, \"b =\", b)"
   ]
  },
  {
   "cell_type": "code",
   "execution_count": 4,
   "id": "b005339b-196e-4e3a-b5ea-1c4bbcf0e79d",
   "metadata": {},
   "outputs": [],
   "source": [
    "def numerical_derivatitve(f, x):\n",
    "    delta_x = 1e-4\n",
    "    grad = np.zeros_like(x)\n",
    "    \n",
    "#     print('x =', x)\n",
    "#     print('grad =', grad)\n",
    "#     print('='*50)\n",
    "    it = np.nditer(x, flags=['multi_index'], op_flags=['readwrite'])\n",
    "    \n",
    "    while not it.finished:\n",
    "        idx = it.multi_index\n",
    "        \n",
    "#         print('idx =', idx,'x[idx] =', x[idx])\n",
    "        \n",
    "        tmp_val = x[idx]\n",
    "        \n",
    "        x[idx] = float(tmp_val) + delta_x\n",
    "        fx1 = f(x)\n",
    "        \n",
    "        x[idx] = tmp_val - delta_x\n",
    "        fx2 = f(x)\n",
    "        \n",
    "        grad[idx] = (fx1-fx2) / (2*delta_x)\n",
    "         \n",
    "#         print('grad[idx] =', grad[idx])\n",
    "#         print('grad =', grad)\n",
    "#         print('='*50)\n",
    "        x[idx] = tmp_val\n",
    "        it.iternext()\n",
    "        \n",
    "    return grad"
   ]
  },
  {
   "cell_type": "code",
   "execution_count": 5,
   "id": "c9c28991-f363-4555-962a-dcc2bedcf467",
   "metadata": {},
   "outputs": [],
   "source": [
    "def loss_func(x, t):\n",
    "    y = np.dot(x, W) + b\n",
    "    \n",
    "    return(np.sum((t-y)**2)) / len(x)"
   ]
  },
  {
   "cell_type": "code",
   "execution_count": 6,
   "id": "db1ca0d1-933c-4a4d-b98e-14f407fcc292",
   "metadata": {},
   "outputs": [],
   "source": [
    "def predict(x):\n",
    "    y = np.dot(x, W)+b\n",
    "    \n",
    "    return y"
   ]
  },
  {
   "cell_type": "code",
   "execution_count": 14,
   "id": "61e2b784-e7c2-497f-bd5d-482c983388cb",
   "metadata": {},
   "outputs": [
    {
     "name": "stdout",
     "output_type": "stream",
     "text": [
      "Initial error value: 12.038285098719324 Initial W =  [[0.39360485]] Initial b= [0.45721355]\n",
      "step = 0 error value= 7.2082789572235955 W =  [[0.61957897]] b =  [0.51089455]\n",
      "step = 400 error value= 0.020464799960373745 W =  [[1.09289674]] b =  [1.66469537]\n",
      "step = 800 error value= 0.0013057752248129971 W =  [[1.02346556]] b =  [1.91530261]\n",
      "step = 1200 error value= 8.331617905072311e-05 W =  [[1.00592736]] b =  [1.97860558]\n",
      "step = 1600 error value= 5.316064786422583e-06 W =  [[1.00149724]] b =  [1.99459581]\n",
      "step = 2000 error value= 3.391963618036039e-07 W =  [[1.0003782]] b =  [1.99863491]\n",
      "step = 2400 error value= 2.1642733202927394e-08 W =  [[1.00009553]] b =  [1.99965518]\n",
      "step = 2800 error value= 1.380934329602825e-09 W =  [[1.00002413]] b =  [1.9999129]\n",
      "step = 3200 error value= 8.81117742719572e-11 W =  [[1.0000061]] b =  [1.999978]\n",
      "step = 3600 error value= 5.622052113337199e-12 W =  [[1.00000154]] b =  [1.99999444]\n",
      "step = 4000 error value= 3.587201628695728e-13 W =  [[1.00000039]] b =  [1.9999986]\n",
      "step = 4400 error value= 2.2888467196225177e-14 W =  [[1.0000001]] b =  [1.99999965]\n",
      "step = 4800 error value= 1.4604195514885226e-15 W =  [[1.00000002]] b =  [1.99999991]\n",
      "step = 5200 error value= 9.318339719078491e-17 W =  [[1.00000001]] b =  [1.99999998]\n",
      "step = 5600 error value= 5.945652063051938e-18 W =  [[1.]] b =  [1.99999999]\n",
      "step = 6000 error value= 3.793674358871973e-19 W =  [[1.]] b =  [2.]\n",
      "step = 6400 error value= 2.4206080112671e-20 W =  [[1.]] b =  [2.]\n",
      "step = 6800 error value= 1.5445164193094658e-21 W =  [[1.]] b =  [2.]\n",
      "step = 7200 error value= 9.855236847401599e-23 W =  [[1.]] b =  [2.]\n",
      "step = 7600 error value= 6.29100873581743e-24 W =  [[1.]] b =  [2.]\n",
      "step = 8000 error value= 4.0223875562256453e-25 W =  [[1.]] b =  [2.]\n",
      "step = 8400 error value= 2.605765342126046e-26 W =  [[1.]] b =  [2.]\n",
      "step = 8800 error value= 1.675540562689429e-27 W =  [[1.]] b =  [2.]\n",
      "step = 9200 error value= 2.680943786393609e-28 W =  [[1.]] b =  [2.]\n",
      "step = 9600 error value= 2.680943786393609e-28 W =  [[1.]] b =  [2.]\n",
      "step = 10000 error value= 2.680943786393609e-28 W =  [[1.]] b =  [2.]\n"
     ]
    }
   ],
   "source": [
    "learning_rate = 1e-2\n",
    "\n",
    "f = lambda x : loss_func(x_data, t_data)\n",
    "\n",
    "print(\"Initial error value:\", loss_func(x_data, t_data), \"Initial W = \", W, \"Initial b=\", b)\n",
    "\n",
    "for step in range(10001):\n",
    "    W -= learning_rate*numerical_derivatitve(f, W)\n",
    "    b -= learning_rate*numerical_derivatitve(f, b)\n",
    "    \n",
    "    if step%400==0:\n",
    "        print('step =', step, 'error value=', loss_func(x_data, t_data), 'W =', W, 'b =', b)"
   ]
  },
  {
   "cell_type": "code",
   "execution_count": 12,
   "id": "70253aed-c388-4943-b491-a735b3a27883",
   "metadata": {},
   "outputs": [
    {
     "data": {
      "text/plain": [
       "array([[12.]])"
      ]
     },
     "execution_count": 12,
     "metadata": {},
     "output_type": "execute_result"
    }
   ],
   "source": [
    "predict(10)"
   ]
  },
  {
   "cell_type": "code",
   "execution_count": null,
   "id": "a5099615-0311-4ead-900f-d6fbcf91a2fb",
   "metadata": {},
   "outputs": [],
   "source": []
  }
 ],
 "metadata": {
  "kernelspec": {
   "display_name": "Python 3",
   "language": "python",
   "name": "python3"
  },
  "language_info": {
   "codemirror_mode": {
    "name": "ipython",
    "version": 3
   },
   "file_extension": ".py",
   "mimetype": "text/x-python",
   "name": "python",
   "nbconvert_exporter": "python",
   "pygments_lexer": "ipython3",
   "version": "3.8.8"
  }
 },
 "nbformat": 4,
 "nbformat_minor": 5
}
