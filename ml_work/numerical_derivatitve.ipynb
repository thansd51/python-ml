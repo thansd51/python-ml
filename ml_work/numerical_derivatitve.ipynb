{
 "cells": [
  {
   "cell_type": "code",
   "execution_count": 1,
   "id": "5ba3853f-618d-47dd-bae2-e06d3e97c669",
   "metadata": {},
   "outputs": [
    {
     "data": {
      "text/plain": [
       "20"
      ]
     },
     "execution_count": 1,
     "metadata": {},
     "output_type": "execute_result"
    }
   ],
   "source": [
    "a=10\n",
    "b=10\n",
    "a+b"
   ]
  },
  {
   "cell_type": "code",
   "execution_count": 2,
   "id": "959bae47-854c-44d0-bd2f-299dbc5a7da6",
   "metadata": {},
   "outputs": [],
   "source": [
    "def my_func1(x):\n",
    "    return x**2"
   ]
  },
  {
   "cell_type": "code",
   "execution_count": 3,
   "id": "a5f38f6d-01b7-4544-b73d-88de59e902a7",
   "metadata": {},
   "outputs": [],
   "source": [
    "def numerical_derivative2(f, x):\n",
    "    delta_x = 1e-4\n",
    "    return (f(x+delta_x)-f(x-delta_x)) / (2*delta_x)"
   ]
  },
  {
   "cell_type": "code",
   "execution_count": 4,
   "id": "0d3671d5-a001-4132-af44-15b7a502158d",
   "metadata": {},
   "outputs": [
    {
     "data": {
      "text/plain": [
       "6.000000000012662"
      ]
     },
     "execution_count": 4,
     "metadata": {},
     "output_type": "execute_result"
    }
   ],
   "source": [
    "numerical_derivative2(my_func1, 3)"
   ]
  },
  {
   "cell_type": "code",
   "execution_count": 5,
   "id": "a4f41655-ffa9-48dd-8bb9-d73e5ca34a81",
   "metadata": {},
   "outputs": [],
   "source": [
    "import numpy as np\n",
    "\n",
    "def my_func2(x):\n",
    "    return 3*x*(np.exp(x))"
   ]
  },
  {
   "cell_type": "code",
   "execution_count": 6,
   "id": "201f4cee-56ac-495d-8a53-da0694b4b265",
   "metadata": {},
   "outputs": [
    {
     "data": {
      "text/plain": [
       "66.50150507518049"
      ]
     },
     "execution_count": 6,
     "metadata": {},
     "output_type": "execute_result"
    }
   ],
   "source": [
    "numerical_derivative2(my_func2, 2)"
   ]
  },
  {
   "cell_type": "code",
   "execution_count": 7,
   "id": "464befad-13f0-4bc1-9684-c14550de8411",
   "metadata": {},
   "outputs": [],
   "source": [
    "def numerical_derivatitve(f, x):\n",
    "    delta_x = 1e-4\n",
    "    grad = np.zeros_like(x)\n",
    "    \n",
    "    print('x =', x)\n",
    "    print('grad =', grad)\n",
    "    print('='*50)\n",
    "    it = np.nditer(x, flags=['multi_index'], op_flags=['readwrite'])\n",
    "    \n",
    "    while not it.finished:\n",
    "        idx = it.multi_index\n",
    "        \n",
    "        print('idx =', idx,'x[idx] =', x[idx])\n",
    "        \n",
    "        tmp_val = x[idx]\n",
    "        \n",
    "        x[idx] = float(tmp_val) + delta_x\n",
    "        fx1 = f(x)\n",
    "        \n",
    "        x[idx] = tmp_val - delta_x\n",
    "        fx2 = f(x)\n",
    "        \n",
    "        grad[idx] = (fx1-fx2) / (2*delta_x)\n",
    "         \n",
    "        print('grad[idx] =', grad[idx])\n",
    "        print('grad =', grad)\n",
    "        print('='*50)\n",
    "        x[idx] = tmp_val\n",
    "        it.iternext()\n",
    "        \n",
    "    return grad"
   ]
  },
  {
   "cell_type": "code",
   "execution_count": 8,
   "id": "572e7843-5c98-467a-be42-12f661376ce6",
   "metadata": {},
   "outputs": [],
   "source": [
    "def func2(input_obj):\n",
    "    x=input_obj[0]\n",
    "    y=input_obj[1]\n",
    "    \n",
    "    return (2*x+3*x*y+np.power(y,3)) # 2x + 3xy + y**3"
   ]
  },
  {
   "cell_type": "code",
   "execution_count": 9,
   "id": "36a28d59-3aad-42c5-a274-e92a996f75bd",
   "metadata": {},
   "outputs": [
    {
     "name": "stdout",
     "output_type": "stream",
     "text": [
      "x = [3. 2.]\n",
      "grad = [0. 0.]\n",
      "==================================================\n",
      "idx = (0,) x[idx] = 3.0\n",
      "grad[idx] = 7.999999999999119\n",
      "grad = [8. 0.]\n",
      "==================================================\n",
      "idx = (1,) x[idx] = 2.0\n",
      "grad[idx] = 21.000000010040765\n",
      "grad = [ 8.         21.00000001]\n",
      "==================================================\n"
     ]
    },
    {
     "data": {
      "text/plain": [
       "array([ 8.        , 21.00000001])"
      ]
     },
     "execution_count": 9,
     "metadata": {},
     "output_type": "execute_result"
    }
   ],
   "source": [
    "numerical_derivatitve(func2, np.array([3.0, 2.0]))"
   ]
  },
  {
   "cell_type": "code",
   "execution_count": 10,
   "id": "5847ce6a-22ac-4f87-80ce-96a7b45a79b1",
   "metadata": {},
   "outputs": [],
   "source": [
    "def func3(input_obj):\n",
    "    w=input_obj[0]\n",
    "    x=input_obj[1]\n",
    "    y=input_obj[2]\n",
    "    z=input_obj[3]\n",
    "    \n",
    "    return (w*x+x*y*z+3*w+z*np.power(y,2)) # wx + xyz + 3w + zy**2"
   ]
  },
  {
   "cell_type": "code",
   "execution_count": 11,
   "id": "4501ffeb-47fd-479d-9b18-af518d6feba4",
   "metadata": {},
   "outputs": [
    {
     "name": "stdout",
     "output_type": "stream",
     "text": [
      "x = [3. 2. 3. 4.]\n",
      "grad = [0. 0. 0. 0.]\n",
      "==================================================\n",
      "idx = (0,) x[idx] = 3.0\n",
      "grad[idx] = 5.000000000023874\n",
      "grad = [5. 0. 0. 0.]\n",
      "==================================================\n",
      "idx = (1,) x[idx] = 2.0\n",
      "grad[idx] = 15.000000000000568\n",
      "grad = [ 5. 15.  0.  0.]\n",
      "==================================================\n",
      "idx = (2,) x[idx] = 3.0\n",
      "grad[idx] = 31.999999999996476\n",
      "grad = [ 5. 15. 32.  0.]\n",
      "==================================================\n",
      "idx = (3,) x[idx] = 4.0\n",
      "grad[idx] = 15.000000000000568\n",
      "grad = [ 5. 15. 32. 15.]\n",
      "==================================================\n"
     ]
    },
    {
     "data": {
      "text/plain": [
       "array([ 5., 15., 32., 15.])"
      ]
     },
     "execution_count": 11,
     "metadata": {},
     "output_type": "execute_result"
    }
   ],
   "source": [
    "numerical_derivatitve(func3, np.array([3.0, 2.0, 3.0, 4.0]))"
   ]
  },
  {
   "cell_type": "code",
   "execution_count": 12,
   "id": "0186a962-89f2-43ef-a758-0b28dc5dbbbb",
   "metadata": {},
   "outputs": [
    {
     "name": "stdout",
     "output_type": "stream",
     "text": [
      "x = [3.]\n",
      "grad = [0.]\n",
      "==================================================\n",
      "idx = (0,) x[idx] = 3.0\n",
      "grad[idx] = 6.000000000012662\n",
      "grad = [6.]\n",
      "==================================================\n"
     ]
    },
    {
     "data": {
      "text/plain": [
       "array([6.])"
      ]
     },
     "execution_count": 12,
     "metadata": {},
     "output_type": "execute_result"
    }
   ],
   "source": [
    "numerical_derivatitve(my_func1, np.array([3.0]))"
   ]
  }
 ],
 "metadata": {
  "kernelspec": {
   "display_name": "Python 3",
   "language": "python",
   "name": "python3"
  },
  "language_info": {
   "codemirror_mode": {
    "name": "ipython",
    "version": 3
   },
   "file_extension": ".py",
   "mimetype": "text/x-python",
   "name": "python",
   "nbconvert_exporter": "python",
   "pygments_lexer": "ipython3",
   "version": "3.8.8"
  }
 },
 "nbformat": 4,
 "nbformat_minor": 5
}
