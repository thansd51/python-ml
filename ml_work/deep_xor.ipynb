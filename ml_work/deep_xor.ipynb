{
 "cells": [
  {
   "cell_type": "code",
   "execution_count": 1,
   "id": "2ce7ca62-9312-4425-bb52-bb1852d7b78e",
   "metadata": {},
   "outputs": [],
   "source": [
    "import numpy as np"
   ]
  },
  {
   "cell_type": "code",
   "execution_count": 2,
   "id": "4ba22b73-71b3-45a4-afde-37b49bf915d0",
   "metadata": {},
   "outputs": [],
   "source": [
    "def sigmoid(x):\n",
    "    return 1 / (1+np.exp(-x))"
   ]
  },
  {
   "cell_type": "code",
   "execution_count": 3,
   "id": "34f8a0b1-2e53-456f-a2e6-8e37c0b65cae",
   "metadata": {},
   "outputs": [],
   "source": [
    "def numerical_derivatitve(f, x):\n",
    "    delta_x = 1e-4\n",
    "    grad = np.zeros_like(x)\n",
    "    \n",
    "    it = np.nditer(x, flags=['multi_index'], op_flags=['readwrite'])\n",
    "    \n",
    "    while not it.finished:\n",
    "        idx = it.multi_index\n",
    "        \n",
    "        tmp_val = x[idx]\n",
    "        \n",
    "        x[idx] = float(tmp_val) + delta_x\n",
    "        fx1 = f(x)\n",
    "        \n",
    "        x[idx] = tmp_val - delta_x\n",
    "        fx2 = f(x)\n",
    "        \n",
    "        grad[idx] = (fx1-fx2) / (2*delta_x)\n",
    "         \n",
    "        x[idx] = tmp_val\n",
    "        it.iternext()\n",
    "        \n",
    "    return grad"
   ]
  },
  {
   "cell_type": "code",
   "execution_count": 4,
   "id": "ee3f203f-ca95-4ddb-944a-31053dbc91f1",
   "metadata": {},
   "outputs": [],
   "source": [
    "class LogicGate:\n",
    "    def __init__(self, gate_name, xdata, tdata):\n",
    "        self.name = gate_name\n",
    "        self.__xdata = xdata\n",
    "        self.__tdata = tdata\n",
    "        \n",
    "        self.__xdata = xdata.reshape(4, 2) # 4개 입력(입력층), 2개 출력(은닉층)\n",
    "        self.__tdata = tdata.reshape(4, 1)\n",
    "        \n",
    "        self.__W2 = np.random.rand(2, 6) # 2개 입력, 6개 출력\n",
    "        self.__b2 = np.random.rand(6)\n",
    "        \n",
    "        self.__W3 = np.random.rand(6, 1) # 6개 입력, 1개 출력\n",
    "        self.__b3 = np.random.rand(1)\n",
    "        \n",
    "        self.__learning_rate = 1e-2\n",
    "        \n",
    "    def feed_forward(self):\n",
    "        delta = 1e-7\n",
    "        \n",
    "        z2 = np.dot(self.__xdata, self.__W2)+self.__b2\n",
    "        a2 = sigmoid(z2)\n",
    "        \n",
    "        z3 = np.dot(a2, self.__W3)+self.__b3\n",
    "        y = sigmoid(z3)\n",
    "        \n",
    "        return -np.sum(self.__tdata*np.log(y+delta)+(1-self.__tdata)*np.log((1-y)+delta))\n",
    "    \n",
    "    def train(self):\n",
    "        f = lambda x: self.feed_forward()\n",
    "        print(\"Initial loss function:\", self.feed_forward())\n",
    "        \n",
    "        for step in range(10001):\n",
    "            self.__W2 -= self.__learning_rate*numerical_derivatitve(f, self.__W2)\n",
    "            self.__b2 -= self.__learning_rate*numerical_derivatitve(f, self.__b2)\n",
    "            \n",
    "            self.__W3 -= self.__learning_rate*numerical_derivatitve(f, self.__W3)\n",
    "            self.__b3 -= self.__learning_rate*numerical_derivatitve(f, self.__b3)\n",
    "            \n",
    "            if step % 400 == 0:\n",
    "                print('step:', step, 'loss value:', self.feed_forward())\n",
    "    \n",
    "    def predict(self, xdata):\n",
    "        z2 = np.dot(xdata, self.__W2) + self.__b2\n",
    "        a2 = sigmoid(z2)\n",
    "        \n",
    "        z3 = np.dot(a2, self.__W3) + self.__b3\n",
    "        y = sigmoid(z3)\n",
    "        \n",
    "        if y >= 0.5 :\n",
    "            result = 1\n",
    "        else :\n",
    "            result = 0\n",
    "        return y, result"
   ]
  },
  {
   "cell_type": "code",
   "execution_count": 5,
   "id": "99f78f10-229f-497e-a241-e41922f5318b",
   "metadata": {},
   "outputs": [
    {
     "name": "stdout",
     "output_type": "stream",
     "text": [
      "Initial loss function: 6.412454287810658\n",
      "step: 0 loss value: 6.2735799824448355\n",
      "step: 400 loss value: 2.7638860744528757\n",
      "step: 800 loss value: 2.758867398295165\n",
      "step: 1200 loss value: 2.7525689026126834\n",
      "step: 1600 loss value: 2.744219628897974\n",
      "step: 2000 loss value: 2.732830936136835\n",
      "step: 2400 loss value: 2.717148746819858\n",
      "step: 2800 loss value: 2.695659371567448\n",
      "step: 3200 loss value: 2.6666658475459823\n",
      "step: 3600 loss value: 2.6284278694205185\n",
      "step: 4000 loss value: 2.57935720809772\n",
      "step: 4400 loss value: 2.518301154640197\n",
      "step: 4800 loss value: 2.4449063944835827\n",
      "step: 5200 loss value: 2.359812414752815\n",
      "step: 5600 loss value: 2.264260910067919\n",
      "step: 6000 loss value: 2.159072543461247\n",
      "step: 6400 loss value: 2.043520325474544\n",
      "step: 6800 loss value: 1.9147851505327362\n",
      "step: 7200 loss value: 1.768631621148367\n",
      "step: 7600 loss value: 1.6018712337970062\n",
      "step: 8000 loss value: 1.4162169732589345\n",
      "step: 8400 loss value: 1.2209500358426835\n",
      "step: 8800 loss value: 1.0308831290682066\n",
      "step: 9200 loss value: 0.8598733892800248\n",
      "step: 9600 loss value: 0.7154173922976026\n",
      "step: 10000 loss value: 0.5982384637786069\n"
     ]
    }
   ],
   "source": [
    "xdata = np.array([[0, 0], [0, 1], [1, 0], [1, 1]])\n",
    "tdata = np.array([0, 1, 1, 0])\n",
    "XOR_obj = LogicGate('XOR_GATE', xdata, tdata)\n",
    "XOR_obj.train()"
   ]
  },
  {
   "cell_type": "code",
   "execution_count": 6,
   "id": "e8411547-c54e-4ff2-8530-1d5c158094ca",
   "metadata": {},
   "outputs": [
    {
     "name": "stdout",
     "output_type": "stream",
     "text": [
      "(array([0.09374843]), 0)\n",
      "(array([0.86639358]), 1)\n",
      "(array([0.86523975]), 1)\n",
      "(array([0.19074075]), 0)\n"
     ]
    }
   ],
   "source": [
    "# XOR Gate prediction\n",
    "test_data = np.array([[0, 0], [0, 1], [1, 0], [1, 1]])\n",
    "for data in test_data:\n",
    "    print(XOR_obj.predict(data))\n",
    "    "
   ]
  },
  {
   "cell_type": "code",
   "execution_count": null,
   "id": "9573c5fa-5e47-4fa2-8f59-9a3445ec7a0c",
   "metadata": {},
   "outputs": [],
   "source": []
  }
 ],
 "metadata": {
  "kernelspec": {
   "display_name": "Python 3",
   "language": "python",
   "name": "python3"
  },
  "language_info": {
   "codemirror_mode": {
    "name": "ipython",
    "version": 3
   },
   "file_extension": ".py",
   "mimetype": "text/x-python",
   "name": "python",
   "nbconvert_exporter": "python",
   "pygments_lexer": "ipython3",
   "version": "3.8.8"
  }
 },
 "nbformat": 4,
 "nbformat_minor": 5
}
