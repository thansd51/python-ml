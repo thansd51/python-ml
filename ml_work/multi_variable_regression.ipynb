{
 "cells": [
  {
   "cell_type": "code",
   "execution_count": 1,
   "id": "d70752e7-50a0-43cb-85b0-b5703a989bc8",
   "metadata": {},
   "outputs": [],
   "source": [
    "import numpy as np"
   ]
  },
  {
   "cell_type": "code",
   "execution_count": 2,
   "id": "bc9a0f24-d697-4625-9444-944568fa3789",
   "metadata": {},
   "outputs": [],
   "source": [
    "load_data = np.loadtxt('data/data-01-test-score.csv', delimiter=\",\", dtype=np.float32)"
   ]
  },
  {
   "cell_type": "code",
   "execution_count": 3,
   "id": "f689935f-e2e4-4876-b4e2-3e0bc2650a2a",
   "metadata": {
    "collapsed": true,
    "jupyter": {
     "outputs_hidden": true
    },
    "tags": []
   },
   "outputs": [
    {
     "name": "stdout",
     "output_type": "stream",
     "text": [
      "[[ 73.  80.  75.]\n",
      " [ 93.  88.  93.]\n",
      " [ 89.  91.  90.]\n",
      " [ 96.  98. 100.]\n",
      " [ 73.  66.  70.]\n",
      " [ 53.  46.  55.]\n",
      " [ 69.  74.  77.]\n",
      " [ 47.  56.  60.]\n",
      " [ 87.  79.  90.]\n",
      " [ 79.  70.  88.]\n",
      " [ 69.  70.  73.]\n",
      " [ 70.  65.  74.]\n",
      " [ 93.  95.  91.]\n",
      " [ 79.  80.  73.]\n",
      " [ 70.  73.  78.]\n",
      " [ 93.  89.  96.]\n",
      " [ 78.  75.  68.]\n",
      " [ 81.  90.  93.]\n",
      " [ 88.  92.  86.]\n",
      " [ 78.  83.  77.]\n",
      " [ 82.  86.  90.]\n",
      " [ 86.  82.  89.]\n",
      " [ 78.  83.  85.]\n",
      " [ 76.  83.  71.]\n",
      " [ 96.  93.  95.]]\n",
      "[[152.]\n",
      " [185.]\n",
      " [180.]\n",
      " [196.]\n",
      " [142.]\n",
      " [101.]\n",
      " [149.]\n",
      " [115.]\n",
      " [175.]\n",
      " [164.]\n",
      " [141.]\n",
      " [141.]\n",
      " [184.]\n",
      " [152.]\n",
      " [148.]\n",
      " [192.]\n",
      " [147.]\n",
      " [183.]\n",
      " [177.]\n",
      " [159.]\n",
      " [177.]\n",
      " [175.]\n",
      " [175.]\n",
      " [149.]\n",
      " [192.]]\n"
     ]
    }
   ],
   "source": [
    "x_data = load_data[:,:-1]\n",
    "t_data = load_data[:,[-1]]\n",
    "\n",
    "print(x_data)\n",
    "print(t_data)"
   ]
  },
  {
   "cell_type": "code",
   "execution_count": 12,
   "id": "dadc76bd-22ab-400c-826a-351433377ca4",
   "metadata": {},
   "outputs": [
    {
     "name": "stdout",
     "output_type": "stream",
     "text": [
      "[[0.63120428]\n",
      " [0.71253073]\n",
      " [0.64742567]] [0.33385839]\n"
     ]
    }
   ],
   "source": [
    "W = np.random.rand(3, 1)\n",
    "b = np.random.rand(1)\n",
    "print(W, b)"
   ]
  },
  {
   "cell_type": "code",
   "execution_count": 5,
   "id": "29b23d0e-1ed8-4080-a39d-88108c552c53",
   "metadata": {},
   "outputs": [],
   "source": [
    "def loss_func(x, t):\n",
    "    y = np.dot(x, W) + b\n",
    "    \n",
    "    return(np.sum((t-y)**2)) / len(x)"
   ]
  },
  {
   "cell_type": "code",
   "execution_count": 6,
   "id": "c9a8041b-bdb0-4919-8c6d-5c2e96e4bebd",
   "metadata": {},
   "outputs": [],
   "source": [
    "def numerical_derivatitve(f, x):\n",
    "    delta_x = 1e-4\n",
    "    grad = np.zeros_like(x)\n",
    "    \n",
    "#     print('x =', x)\n",
    "#     print('grad =', grad)\n",
    "#     print('='*50)\n",
    "    it = np.nditer(x, flags=['multi_index'], op_flags=['readwrite'])\n",
    "    \n",
    "    while not it.finished:\n",
    "        idx = it.multi_index\n",
    "        \n",
    "#         print('idx =', idx,'x[idx] =', x[idx])\n",
    "        \n",
    "        tmp_val = x[idx]\n",
    "        \n",
    "        x[idx] = float(tmp_val) + delta_x\n",
    "        fx1 = f(x)\n",
    "        \n",
    "        x[idx] = tmp_val - delta_x\n",
    "        fx2 = f(x)\n",
    "        \n",
    "        grad[idx] = (fx1-fx2) / (2*delta_x)\n",
    "         \n",
    "#         print('grad[idx] =', grad[idx])\n",
    "#         print('grad =', grad)\n",
    "#         print('='*50)\n",
    "        x[idx] = tmp_val\n",
    "        it.iternext()\n",
    "        \n",
    "    return grad"
   ]
  },
  {
   "cell_type": "code",
   "execution_count": 7,
   "id": "a384fef8-a68a-4086-a3bc-febd4d57052c",
   "metadata": {},
   "outputs": [],
   "source": [
    "def predict(x):\n",
    "    y = np.dot(x, W)+b\n",
    "    \n",
    "    return y"
   ]
  },
  {
   "cell_type": "code",
   "execution_count": 13,
   "id": "3501ba14-5346-4cc1-a2b5-10505030f6b6",
   "metadata": {},
   "outputs": [
    {
     "name": "stdout",
     "output_type": "stream",
     "text": [
      "Initial error value: 18.745025659410068 Initial W =  [[0.63120428]\n",
      " [0.71253073]\n",
      " [0.64742567]] Initial b= [0.33385839]\n",
      "step = 0 error value= 18.272976612659818 W =  [[0.63159257]\n",
      " [0.71291739]\n",
      " [0.64785132]] b =  [0.33386306]\n",
      "step = 400 error value= 12.403518497142262 W =  [[0.63830415]\n",
      " [0.71818771]\n",
      " [0.66512577]] b =  [0.33396177]\n",
      "step = 800 error value= 12.204744497094095 W =  [[0.63534545]\n",
      " [0.71379169]\n",
      " [0.67229725]] b =  [0.33394412]\n",
      "step = 1200 error value= 12.012530682572692 W =  [[0.63241883]\n",
      " [0.70948379]\n",
      " [0.67935146]] b =  [0.33392563]\n",
      "step = 1600 error value= 11.82665545684464 W =  [[0.62952394]\n",
      " [0.70526233]\n",
      " [0.68629036]] b =  [0.3339063]\n",
      "step = 2000 error value= 11.646904814815862 W =  [[0.6266604 ]\n",
      " [0.7011257 ]\n",
      " [0.69311591]] b =  [0.33388616]\n",
      "step = 2400 error value= 11.473072080775488 W =  [[0.62382787]\n",
      " [0.69707229]\n",
      " [0.69983001]] b =  [0.33386522]\n",
      "step = 2800 error value= 11.30495765524229 W =  [[0.621026  ]\n",
      " [0.69310053]\n",
      " [0.70643453]] b =  [0.33384348]\n",
      "step = 3200 error value= 11.142368770599358 W =  [[0.61825442]\n",
      " [0.68920889]\n",
      " [0.71293133]] b =  [0.33382097]\n",
      "step = 3600 error value= 10.985119255208206 W =  [[0.6155128 ]\n",
      " [0.68539586]\n",
      " [0.71932221]] b =  [0.3337977]\n",
      "step = 4000 error value= 10.833029305709978 W =  [[0.6128008 ]\n",
      " [0.68165994]\n",
      " [0.72560895]] b =  [0.33377367]\n",
      "step = 4400 error value= 10.685925267226425 W =  [[0.61011808]\n",
      " [0.67799967]\n",
      " [0.73179331]] b =  [0.3337489]\n",
      "step = 4800 error value= 10.54363942118786 W =  [[0.60746431]\n",
      " [0.67441364]\n",
      " [0.73787701]] b =  [0.33372341]\n",
      "step = 5200 error value= 10.406009780520534 W =  [[0.60483916]\n",
      " [0.67090043]\n",
      " [0.74386174]] b =  [0.3336972]\n",
      "step = 5600 error value= 10.272879891939459 W =  [[0.60224231]\n",
      " [0.66745867]\n",
      " [0.74974916]] b =  [0.33367028]\n",
      "step = 6000 error value= 10.144098645097625 W =  [[0.59967344]\n",
      " [0.66408699]\n",
      " [0.7555409 ]] b =  [0.33364267]\n",
      "step = 6400 error value= 10.019520088354428 W =  [[0.59713223]\n",
      " [0.66078408]\n",
      " [0.76123858]] b =  [0.33361438]\n",
      "step = 6800 error value= 9.899003250932 W =  [[0.59461837]\n",
      " [0.65754862]\n",
      " [0.76684376]] b =  [0.33358542]\n",
      "step = 7200 error value= 9.782411971238227 W =  [[0.59213155]\n",
      " [0.65437934]\n",
      " [0.772358  ]] b =  [0.3335558]\n",
      "step = 7600 error value= 9.669614731140596 W =  [[0.58967146]\n",
      " [0.65127498]\n",
      " [0.77778283]] b =  [0.33352553]\n",
      "step = 8000 error value= 9.56048449598562 W =  [[0.58723781]\n",
      " [0.6482343 ]\n",
      " [0.78311975]] b =  [0.33349462]\n",
      "step = 8400 error value= 9.454898560162372 W =  [[0.5848303 ]\n",
      " [0.6452561 ]\n",
      " [0.78837022]] b =  [0.33346308]\n",
      "step = 8800 error value= 9.352738398018104 W =  [[0.58244863]\n",
      " [0.64233918]\n",
      " [0.79353569]] b =  [0.33343093]\n",
      "step = 9200 error value= 9.253889519940033 W =  [[0.58009251]\n",
      " [0.63948237]\n",
      " [0.7986176 ]] b =  [0.33339816]\n",
      "step = 9600 error value= 9.158241333423192 W =  [[0.57776166]\n",
      " [0.63668454]\n",
      " [0.80361733]] b =  [0.3333648]\n",
      "step = 10000 error value= 9.065687008950531 W =  [[0.57545579]\n",
      " [0.63394455]\n",
      " [0.80853626]] b =  [0.33333085]\n"
     ]
    }
   ],
   "source": [
    "learning_rate = 1e-6\n",
    "\n",
    "f = lambda x : loss_func(x_data, t_data)\n",
    "\n",
    "print(\"Initial error value:\", loss_func(x_data, t_data), \"Initial W = \", W, \"Initial b=\", b)\n",
    "\n",
    "for step in range(10001):\n",
    "    W -= learning_rate*numerical_derivatitve(f, W)\n",
    "    b -= learning_rate*numerical_derivatitve(f, b)\n",
    "    \n",
    "    if step%400==0:\n",
    "        print('step =', step, 'error value=', loss_func(x_data, t_data), 'W =', W, 'b =', b)"
   ]
  },
  {
   "cell_type": "code",
   "execution_count": null,
   "id": "3b9604ec-25d6-4849-8037-7ab3b72242f5",
   "metadata": {},
   "outputs": [],
   "source": []
  }
 ],
 "metadata": {
  "kernelspec": {
   "display_name": "Python 3",
   "language": "python",
   "name": "python3"
  },
  "language_info": {
   "codemirror_mode": {
    "name": "ipython",
    "version": 3
   },
   "file_extension": ".py",
   "mimetype": "text/x-python",
   "name": "python",
   "nbconvert_exporter": "python",
   "pygments_lexer": "ipython3",
   "version": "3.8.8"
  }
 },
 "nbformat": 4,
 "nbformat_minor": 5
}
