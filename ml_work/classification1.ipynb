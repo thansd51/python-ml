{
 "cells": [
  {
   "cell_type": "code",
   "execution_count": 1,
   "id": "46af1477-71a6-46c6-bfe7-48fc6e95be04",
   "metadata": {},
   "outputs": [],
   "source": [
    "import numpy as np"
   ]
  },
  {
   "cell_type": "code",
   "execution_count": 2,
   "id": "af400ac2-1b08-487d-800f-52a81d3efc57",
   "metadata": {
    "tags": []
   },
   "outputs": [],
   "source": [
    "# x_data = np.array([2, 4, 6, 8, 10, 12, 14, 16, 18, 20]).reshape(10, 1)\n",
    "# t_data = np.array([0, 0, 0, 0, 0, 0, 1, 1, 1, 1]).reshape(10, 1)"
   ]
  },
  {
   "cell_type": "code",
   "execution_count": 3,
   "id": "bc8c0136-1d58-42d9-80b6-8111f1b20ff1",
   "metadata": {},
   "outputs": [],
   "source": [
    "x_data = np.array([[2, 4], [4, 11], [6, 6], [8, 5], [10, 7], [12, 16], [14, 8], [16, 3], [18, 7]])\n",
    "t_data = np.array([0, 0, 0, 0, 1, 1, 1, 1, 1]).reshape(9, 1)"
   ]
  },
  {
   "cell_type": "code",
   "execution_count": 4,
   "id": "ab2f18c1-84b2-45ed-bbec-b5ad4eeb4ceb",
   "metadata": {},
   "outputs": [
    {
     "name": "stdout",
     "output_type": "stream",
     "text": [
      "[[0.35072447]\n",
      " [0.21662024]] [0.27271678]\n"
     ]
    }
   ],
   "source": [
    "W = np.random.rand(2, 1)\n",
    "b = np.random.rand(1)\n",
    "print(W, b)"
   ]
  },
  {
   "cell_type": "code",
   "execution_count": 5,
   "id": "a838c416-b8aa-425a-8ca4-aa50bc2309ed",
   "metadata": {},
   "outputs": [],
   "source": [
    "def sigmoid(x):\n",
    "    return 1 / (1+np.exp(-x))"
   ]
  },
  {
   "cell_type": "code",
   "execution_count": 6,
   "id": "88f332f2-ac09-47a1-9348-7f3add17b707",
   "metadata": {},
   "outputs": [],
   "source": [
    "def loss_func(x, t):\n",
    "    delta = 1e-7\n",
    "    z = np.dot(x, W) + b\n",
    "    y = sigmoid(z)\n",
    "    \n",
    "    return -np.sum(t*np.log(y+delta)+(1-t)*np.log(1-y+delta))"
   ]
  },
  {
   "cell_type": "code",
   "execution_count": 7,
   "id": "d098d32d-0b5a-4e69-a8c0-605294acfc90",
   "metadata": {},
   "outputs": [],
   "source": [
    "def numerical_derivatitve(f, x):\n",
    "    delta_x = 1e-4\n",
    "    grad = np.zeros_like(x)\n",
    "    \n",
    "#     print('x =', x)\n",
    "#     print('grad =', grad)\n",
    "#     print('='*50)\n",
    "    it = np.nditer(x, flags=['multi_index'], op_flags=['readwrite'])\n",
    "    \n",
    "    while not it.finished:\n",
    "        idx = it.multi_index\n",
    "        \n",
    "#         print('idx =', idx,'x[idx] =', x[idx])\n",
    "        \n",
    "        tmp_val = x[idx]\n",
    "        \n",
    "        x[idx] = float(tmp_val) + delta_x\n",
    "        fx1 = f(x)\n",
    "        \n",
    "        x[idx] = tmp_val - delta_x\n",
    "        fx2 = f(x)\n",
    "        \n",
    "        grad[idx] = (fx1-fx2) / (2*delta_x)\n",
    "         \n",
    "#         print('grad[idx] =', grad[idx])\n",
    "#         print('grad =', grad)\n",
    "#         print('='*50)\n",
    "        x[idx] = tmp_val\n",
    "        it.iternext()\n",
    "        \n",
    "    return grad"
   ]
  },
  {
   "cell_type": "code",
   "execution_count": 8,
   "id": "841ee45a-3374-4bb2-b8f5-3d81e4eb4e5d",
   "metadata": {},
   "outputs": [],
   "source": [
    "def predict(x):\n",
    "    z = np.dot(x, W)+b\n",
    "    y = sigmoid(z)\n",
    "    \n",
    "    if y > 0.5 :\n",
    "        result = 1\n",
    "    else :\n",
    "        result = 0\n",
    "    return y, result"
   ]
  },
  {
   "cell_type": "code",
   "execution_count": 9,
   "id": "d74ab16a-be44-4210-9c6a-66c9357e0c7a",
   "metadata": {
    "tags": []
   },
   "outputs": [
    {
     "name": "stdout",
     "output_type": "stream",
     "text": [
      "Initial error value: 13.950453816223876 Initial W =  [[0.35072447]\n",
      " [0.21662024]] Initial b= [0.27271678]\n",
      "step = 0 error value= 5.401196276465496 W = [[ 0.15781882]\n",
      " [-0.033234  ]] b = [0.25039165]\n",
      "step = 400 error value= 2.21166030873652 W = [[ 0.42823559]\n",
      " [-0.08205384]] b = [-2.74292236]\n",
      "step = 800 error value= 1.566958793992062 W = [[ 0.54194547]\n",
      " [-0.02389432]] b = [-4.33742528]\n",
      "step = 1200 error value= 1.2668313114010818 W = [[0.62785989]\n",
      " [0.01067676]] b = [-5.42937195]\n",
      "step = 1600 error value= 1.0897956980449113 W = [[0.69742456]\n",
      " [0.03549838]] b = [-6.26885646]\n",
      "step = 2000 error value= 0.9707499056713152 W = [[0.75617253]\n",
      " [0.0553611 ]] b = [-6.95745229]\n",
      "step = 2400 error value= 0.8837905396578065 W = [[0.80717685]\n",
      " [0.07241346]] b = [-7.54601458]\n",
      "step = 2800 error value= 0.8165693976360969 W = [[0.85232362]\n",
      " [0.08777375]] b = [-8.06348011]\n",
      "step = 3200 error value= 0.7624399881930809 W = [[0.8928578 ]\n",
      " [0.10208155]] b = [-8.52781308]\n",
      "step = 3600 error value= 0.7174965626953139 W = [[0.92964805]\n",
      " [0.11572572]] b = [-8.95089907]\n",
      "step = 4000 error value= 0.6792859577290618 W = [[0.9633279 ]\n",
      " [0.12895155]] b = [-9.34099468]\n",
      "step = 4400 error value= 0.6461847663190232 W = [[0.99437674]\n",
      " [0.14191606]] b = [-9.70406078]\n",
      "step = 4800 error value= 0.617072585993822 W = [[1.02316882]\n",
      " [0.15471879]] b = [-10.0445371]\n",
      "step = 5200 error value= 0.5911490406676173 W = [[1.05000425]\n",
      " [0.16742026]] b = [-10.36581638]\n",
      "step = 5600 error value= 0.5678256856712319 W = [[1.07512926]\n",
      " [0.18005367]] b = [-10.67054748]\n",
      "step = 6000 error value= 0.5466592291870783 W = [[1.09874972]\n",
      " [0.19263297]] b = [-10.96083648]\n",
      "step = 6400 error value= 0.5273086796855858 W = [[1.12104034]\n",
      " [0.2051586 ]] b = [-11.23838421]\n",
      "step = 6800 error value= 0.5095069328814192 W = [[1.14215109]\n",
      " [0.21762192]] b = [-11.50458306]\n",
      "step = 7200 error value= 0.4930413905992294 W = [[1.16221172]\n",
      " [0.23000857]] b = [-11.7605867]\n",
      "step = 7600 error value= 0.47774040944585183 W = [[1.18133501]\n",
      " [0.24230108]] b = [-12.00736142]\n",
      "step = 8000 error value= 0.4634636187427232 W = [[1.19961929]\n",
      " [0.25448094]] b = [-12.24572453]\n",
      "step = 8400 error value= 0.45009487104855567 W = [[1.21715035]\n",
      " [0.26652997]] b = [-12.47637372]\n",
      "step = 8800 error value= 0.43753702392944427 W = [[1.23400306]\n",
      " [0.27843142]] b = [-12.69990959]\n",
      "step = 9200 error value= 0.42570802081871667 W = [[1.25024272]\n",
      " [0.29017055]] b = [-12.91685337]\n",
      "step = 9600 error value= 0.4145379095557371 W = [[1.26592626]\n",
      " [0.30173496]] b = [-13.1276608]\n",
      "step = 10000 error value= 0.40396654810264926 W = [[1.28110329]\n",
      " [0.31311474]] b = [-13.33273323]\n"
     ]
    }
   ],
   "source": [
    "learning_rate = 1e-2\n",
    "\n",
    "f = lambda x : loss_func(x_data, t_data)\n",
    "\n",
    "print(\"Initial error value:\", loss_func(x_data, t_data), \"Initial W = \", W, \"Initial b=\", b)\n",
    "\n",
    "for step in range(10001):\n",
    "    W -= learning_rate*numerical_derivatitve(f, W)\n",
    "    b -= learning_rate*numerical_derivatitve(f, b)\n",
    "    \n",
    "    if step%400==0:\n",
    "        print('step =', step, 'error value=', loss_func(x_data, t_data), 'W =', W, 'b =', b)"
   ]
  },
  {
   "cell_type": "code",
   "execution_count": 10,
   "id": "ee387f2c-6484-4046-ba00-eebcc306a3dd",
   "metadata": {},
   "outputs": [],
   "source": [
    "# (real_val, logical_val)=predict(1)\n",
    "# print(real_val, logical_val)"
   ]
  },
  {
   "cell_type": "code",
   "execution_count": 26,
   "id": "bdc04327-208a-490c-9cfb-8372de7a330b",
   "metadata": {},
   "outputs": [
    {
     "name": "stdout",
     "output_type": "stream",
     "text": [
      "test_data : (array([7.98039072e-06]), 0)\n"
     ]
    }
   ],
   "source": [
    "test_data = np.array([1, 1]) # (예습/복습) = (1, 1)\n",
    "print('test_data :',predict(test_data))"
   ]
  },
  {
   "cell_type": "code",
   "execution_count": 12,
   "id": "9b961a70-ca9e-4c63-b2db-f7ba52174bd6",
   "metadata": {},
   "outputs": [],
   "source": [
    "# (real_val, logical_val)=predict(15)\n",
    "# print(real_val, logical_val)"
   ]
  }
 ],
 "metadata": {
  "kernelspec": {
   "display_name": "Python 3",
   "language": "python",
   "name": "python3"
  },
  "language_info": {
   "codemirror_mode": {
    "name": "ipython",
    "version": 3
   },
   "file_extension": ".py",
   "mimetype": "text/x-python",
   "name": "python",
   "nbconvert_exporter": "python",
   "pygments_lexer": "ipython3",
   "version": "3.8.8"
  }
 },
 "nbformat": 4,
 "nbformat_minor": 5
}
