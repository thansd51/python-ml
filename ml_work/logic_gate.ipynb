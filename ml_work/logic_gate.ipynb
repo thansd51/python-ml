{
 "cells": [
  {
   "cell_type": "code",
   "execution_count": 1,
   "id": "01be18b7-1865-48c0-98dc-21a04b389f90",
   "metadata": {},
   "outputs": [],
   "source": [
    "import numpy as np"
   ]
  },
  {
   "cell_type": "code",
   "execution_count": 2,
   "id": "56c5e970-68f8-42a5-b8ca-4845f98a40f7",
   "metadata": {},
   "outputs": [],
   "source": [
    "def sigmoid(x):\n",
    "    return 1 / (1+np.exp(-x))"
   ]
  },
  {
   "cell_type": "code",
   "execution_count": 3,
   "id": "ce7853e8-4362-4579-9908-dddf4525e5d5",
   "metadata": {},
   "outputs": [],
   "source": [
    "def numerical_derivatitve(f, x):\n",
    "    delta_x = 1e-4\n",
    "    grad = np.zeros_like(x)\n",
    "    \n",
    "    it = np.nditer(x, flags=['multi_index'], op_flags=['readwrite'])\n",
    "    \n",
    "    while not it.finished:\n",
    "        idx = it.multi_index\n",
    "        \n",
    "        tmp_val = x[idx]\n",
    "        \n",
    "        x[idx] = float(tmp_val) + delta_x\n",
    "        fx1 = f(x)\n",
    "        \n",
    "        x[idx] = tmp_val - delta_x\n",
    "        fx2 = f(x)\n",
    "        \n",
    "        grad[idx] = (fx1-fx2) / (2*delta_x)\n",
    "         \n",
    "        x[idx] = tmp_val\n",
    "        it.iternext()\n",
    "        \n",
    "    return grad"
   ]
  },
  {
   "cell_type": "code",
   "execution_count": 4,
   "id": "cd4b9b8c-cb7a-4a67-8d94-f9a068854d56",
   "metadata": {},
   "outputs": [],
   "source": [
    "class LogicGate:\n",
    "    def __init__(self, gate_name, xdata, tdata):\n",
    "        self.name = gate_name\n",
    "        \n",
    "        # 입력 데이터, 정답 데이터 초기화\n",
    "        self.__xdata = xdata.reshape(4, 2)\n",
    "        self.__tdata = tdata.reshape(4, 1)\n",
    "        \n",
    "        # 가중치 W, 바이어스 b 초기화\n",
    "        self.__W = np.random.rand(2, 1)\n",
    "        self.__b = np.random.rand(1)\n",
    "        \n",
    "        # learning rate 초기화\n",
    "        self.__learning_rate = 1e-2\n",
    "        \n",
    "    def __loss_func(self):\n",
    "        delta = 1e-7\n",
    "        z = np.dot(self.__xdata, self.__W)+self.__b\n",
    "        y = sigmoid(z)\n",
    "        \n",
    "        # cross-entropy\n",
    "        return -np.sum(self.__tdata*np.log(y+delta)+(1-self.__tdata)*np.log((1-y)+delta))\n",
    "    \n",
    "    def train(self):\n",
    "        f = lambda x : self.__loss_func()\n",
    "        print(\"Initial error value:\", self.__loss_func())\n",
    "        \n",
    "        for step in range(10001):\n",
    "            self.__W -= self.__learning_rate*numerical_derivatitve(f, self.__W)\n",
    "            self.__b -= self.__learning_rate*numerical_derivatitve(f, self.__b)\n",
    "            \n",
    "            if step%400==0:\n",
    "                print('step =', step, 'error value=', self.__loss_func())\n",
    "    \n",
    "    def predict(self, x):\n",
    "        z = np.dot(x, self.__W)+self.__b\n",
    "        y = sigmoid(z)\n",
    "        \n",
    "        if y > 0.5 :\n",
    "            result = 1\n",
    "        else :\n",
    "            result = 0\n",
    "        return y, result"
   ]
  },
  {
   "cell_type": "code",
   "execution_count": 5,
   "id": "0b69fd9a-fd66-4efb-9df1-876dcda09fc1",
   "metadata": {},
   "outputs": [
    {
     "name": "stdout",
     "output_type": "stream",
     "text": [
      "Initial error value: 3.0996330709845425\n",
      "step = 0 error value= 3.0707182820404024\n",
      "step = 400 error value= 1.44550818151943\n",
      "step = 800 error value= 1.0940125671163436\n",
      "step = 1200 error value= 0.8878745913255087\n",
      "step = 1600 error value= 0.7492863291589582\n",
      "step = 2000 error value= 0.6485515320735658\n",
      "step = 2400 error value= 0.5715977733438092\n",
      "step = 2800 error value= 0.510738630630765\n",
      "step = 3200 error value= 0.461351513571131\n",
      "step = 3600 error value= 0.42045995137485953\n",
      "step = 4000 error value= 0.386047924612717\n",
      "step = 4400 error value= 0.35669567802673907\n",
      "step = 4800 error value= 0.3313718766601247\n",
      "step = 5200 error value= 0.30930810494917854\n",
      "step = 5600 error value= 0.2899195770077908\n",
      "step = 6000 error value= 0.2727531504738446\n",
      "step = 6400 error value= 0.2574521714783227\n",
      "step = 6800 error value= 0.2437320700581875\n",
      "step = 7200 error value= 0.23136303228191119\n",
      "step = 7600 error value= 0.22015745313883678\n",
      "step = 8000 error value= 0.20996069283444718\n",
      "step = 8400 error value= 0.20064416140510816\n",
      "step = 8800 error value= 0.1921000735362191\n",
      "step = 9200 error value= 0.1842374205097279\n",
      "step = 9600 error value= 0.17697884179180445\n",
      "step = 10000 error value= 0.170258170203413\n"
     ]
    }
   ],
   "source": [
    "xdata = np.array([[0, 0], [0, 1], [1, 0], [1, 1]])\n",
    "tdata = np.array([0, 0, 0, 1])\n",
    "AND_obj = LogicGate('AND_GATE', xdata, tdata)\n",
    "AND_obj.train()"
   ]
  },
  {
   "cell_type": "code",
   "execution_count": 6,
   "id": "c07196a7-4b58-4937-a6ba-098665cba38c",
   "metadata": {},
   "outputs": [
    {
     "name": "stdout",
     "output_type": "stream",
     "text": [
      "AND_GATE \n",
      "\n",
      "[0 0] = 0 \n",
      "\n",
      "[0 1] = 0 \n",
      "\n",
      "[1 0] = 0 \n",
      "\n",
      "[1 1] = 1 \n",
      "\n"
     ]
    }
   ],
   "source": [
    "# AND Gate prediction\n",
    "print(AND_obj.name, '\\n')\n",
    "test_data = np.array([[0, 0], [0, 1], [1, 0], [1, 1]])\n",
    "\n",
    "for input_data in test_data:\n",
    "    (sigmoid_val, logical_val) = AND_obj.predict(input_data)\n",
    "    print(input_data, '=', logical_val, '\\n')"
   ]
  },
  {
   "cell_type": "code",
   "execution_count": 7,
   "id": "3c86111e-57b1-419f-844e-5b7f9f4cf96f",
   "metadata": {},
   "outputs": [
    {
     "name": "stdout",
     "output_type": "stream",
     "text": [
      "Initial error value: 2.1290323375682596\n",
      "step = 0 error value= 2.1218222920602874\n",
      "step = 400 error value= 1.2163740855137295\n",
      "step = 800 error value= 0.8616970028954333\n",
      "step = 1200 error value= 0.6600419280122564\n",
      "step = 1600 error value= 0.5313946347182634\n",
      "step = 2000 error value= 0.44276933398589663\n",
      "step = 2400 error value= 0.3783290552837466\n",
      "step = 2800 error value= 0.32955157997042767\n",
      "step = 3200 error value= 0.291457884493354\n",
      "step = 3600 error value= 0.26095349924951283\n",
      "step = 4000 error value= 0.23601969025008313\n",
      "step = 4400 error value= 0.2152867942845222\n",
      "step = 4800 error value= 0.1977947926268735\n",
      "step = 5200 error value= 0.1828520448638691\n",
      "step = 5600 error value= 0.16994838915918045\n",
      "step = 6000 error value= 0.15869976175636094\n",
      "step = 6400 error value= 0.14881181248586706\n",
      "step = 6800 error value= 0.14005535784126422\n",
      "step = 7200 error value= 0.13224942905155626\n",
      "step = 7600 error value= 0.12524932000902392\n",
      "step = 8000 error value= 0.11893800274916481\n",
      "step = 8400 error value= 0.11321985798819105\n",
      "step = 8800 error value= 0.10801602680516376\n",
      "step = 9200 error value= 0.10326091668738073\n",
      "step = 9600 error value= 0.09889954216931843\n",
      "step = 10000 error value= 0.09488547733500427\n"
     ]
    }
   ],
   "source": [
    "tdata = np.array([0, 1, 1, 1])\n",
    "OR_obj = LogicGate('OR_GATE', xdata, tdata)\n",
    "OR_obj.train()"
   ]
  },
  {
   "cell_type": "code",
   "execution_count": 8,
   "id": "2deb9aec-16a4-4427-a95d-d9af5d70e1ac",
   "metadata": {},
   "outputs": [
    {
     "name": "stdout",
     "output_type": "stream",
     "text": [
      "OR_GATE \n",
      "\n",
      "[0 0] = 0 \n",
      "\n",
      "[0 1] = 1 \n",
      "\n",
      "[1 0] = 1 \n",
      "\n",
      "[1 1] = 1 \n",
      "\n"
     ]
    }
   ],
   "source": [
    "# OR Gate prediction\n",
    "print(OR_obj.name, '\\n')\n",
    "test_data = np.array([[0, 0], [0, 1], [1, 0], [1, 1]])\n",
    "\n",
    "for input_data in test_data:\n",
    "    (sigmoid_val, logical_val) = OR_obj.predict(input_data)\n",
    "    print(input_data, '=', logical_val, '\\n')"
   ]
  },
  {
   "cell_type": "code",
   "execution_count": 9,
   "id": "092e4c3d-d798-4f30-b940-adec118763dd",
   "metadata": {},
   "outputs": [
    {
     "name": "stdout",
     "output_type": "stream",
     "text": [
      "Initial error value: 2.7617661450507636\n",
      "step = 0 error value= 2.7550732955223154\n",
      "step = 400 error value= 1.6050437838459526\n",
      "step = 800 error value= 1.1763503665666963\n",
      "step = 1200 error value= 0.9394902964364911\n",
      "step = 1600 error value= 0.7852590486891404\n",
      "step = 2000 error value= 0.675276543766692\n",
      "step = 2400 error value= 0.5923155819532611\n",
      "step = 2800 error value= 0.5272984333091677\n",
      "step = 3200 error value= 0.4748993912341931\n",
      "step = 3600 error value= 0.43175006718877995\n",
      "step = 4000 error value= 0.39559951608394883\n",
      "step = 4400 error value= 0.3648791173353794\n",
      "step = 4800 error value= 0.3384589935508112\n",
      "step = 5200 error value= 0.3155031605445813\n",
      "step = 5600 error value= 0.2953791373386686\n",
      "step = 6000 error value= 0.27759928329751155\n",
      "step = 6400 error value= 0.2617814661011764\n",
      "step = 6800 error value= 0.24762195596796632\n",
      "step = 7200 error value= 0.23487630081753633\n",
      "step = 7600 error value= 0.22334555411192175\n",
      "step = 8000 error value= 0.21286617792860243\n",
      "step = 8400 error value= 0.2033025219867916\n",
      "step = 8800 error value= 0.1945411413436567\n",
      "step = 9200 error value= 0.1864864480193748\n",
      "step = 9600 error value= 0.17905734462634967\n",
      "step = 10000 error value= 0.17218459056026586\n"
     ]
    }
   ],
   "source": [
    "tdata = np.array([1, 1, 1, 0])\n",
    "NAND_obj = LogicGate('NAND_GATE', xdata, tdata)\n",
    "NAND_obj.train()"
   ]
  },
  {
   "cell_type": "code",
   "execution_count": 10,
   "id": "a3efb6cf-aa78-4a12-b517-623f33a43ada",
   "metadata": {},
   "outputs": [
    {
     "name": "stdout",
     "output_type": "stream",
     "text": [
      "NAND_GATE \n",
      "\n",
      "[0 0] = 1 \n",
      "\n",
      "[0 1] = 1 \n",
      "\n",
      "[1 0] = 1 \n",
      "\n",
      "[1 1] = 0 \n",
      "\n"
     ]
    }
   ],
   "source": [
    "# NAND Gate prediction\n",
    "print(NAND_obj.name, '\\n')\n",
    "test_data = np.array([[0, 0], [0, 1], [1, 0], [1, 1]])\n",
    "\n",
    "for input_data in test_data:\n",
    "    (sigmoid_val, logical_val) = NAND_obj.predict(input_data)\n",
    "    print(input_data, '=', logical_val, '\\n')"
   ]
  },
  {
   "cell_type": "code",
   "execution_count": 11,
   "id": "c384bb4c-ffd8-4e6d-8a12-8ca723c841c3",
   "metadata": {},
   "outputs": [],
   "source": [
    "# tdata = np.array([0, 1, 1, 0])\n",
    "# XOR_obj = LogicGate('XOR_GATE', xdata, tdata)\n",
    "# XOR_obj.train()"
   ]
  },
  {
   "cell_type": "code",
   "execution_count": 12,
   "id": "de3ce25d-c818-4b54-9482-19a4a3b561bc",
   "metadata": {},
   "outputs": [],
   "source": [
    "# print(XOR_obj.name, '\\n')\n",
    "# test_data = np.array([[0, 0], [0, 1], [1, 0], [1, 1]])\n",
    "\n",
    "# for input_data in test_data:\n",
    "#     (sigmoid_val, logical_val) = NAND_obj.predict(input_data)\n",
    "#     print(input_data, '=', logical_val, '\\n')"
   ]
  },
  {
   "cell_type": "code",
   "execution_count": 13,
   "id": "0939c286-cf2f-4554-86f7-297f7fa4464a",
   "metadata": {},
   "outputs": [
    {
     "name": "stdout",
     "output_type": "stream",
     "text": [
      "[0 0] = 0\n",
      "\n",
      "[0 1] = 1\n",
      "\n",
      "[1 0] = 1\n",
      "\n",
      "[1 1] = 0\n",
      "\n"
     ]
    }
   ],
   "source": [
    "# XOR Gate prediction (NAND + OR => AND)\n",
    "input_data = np.array([[0, 0], [0, 1], [1, 0], [1, 1]])\n",
    "s1 = [] # NAND \n",
    "s2 = [] # OR \n",
    "\n",
    "new_input_data = [] # AND 입력\n",
    "final_output = [] # AND 출력\n",
    "\n",
    "for index in range(len(input_data)):\n",
    "    \n",
    "    s1 = NAND_obj.predict(input_data[index]) # NAND 출력\n",
    "    s2 = OR_obj.predict(input_data[index]) # OR 출력\n",
    "    \n",
    "    new_input_data.append(s1[-1]) # AND 입력\n",
    "    new_input_data.append(s2[-1]) # AND 입력\n",
    "    \n",
    "    (sigmoid_val, logical_val) = AND_obj.predict(np.array(new_input_data))\n",
    "    \n",
    "    final_output.append(logical_val) # AND 출력 = XOR 출력\n",
    "    new_input_data = [] # AND 초기화\n",
    "\n",
    "for index in range(len(input_data)):\n",
    "    print(input_data[index], '=', final_output[index], end='')\n",
    "    print('\\n')"
   ]
  },
  {
   "cell_type": "code",
   "execution_count": null,
   "id": "2dc7ac6c-571d-41ad-81e4-d98f8cd10ed4",
   "metadata": {},
   "outputs": [],
   "source": []
  }
 ],
 "metadata": {
  "kernelspec": {
   "display_name": "Python 3",
   "language": "python",
   "name": "python3"
  },
  "language_info": {
   "codemirror_mode": {
    "name": "ipython",
    "version": 3
   },
   "file_extension": ".py",
   "mimetype": "text/x-python",
   "name": "python",
   "nbconvert_exporter": "python",
   "pygments_lexer": "ipython3",
   "version": "3.8.8"
  }
 },
 "nbformat": 4,
 "nbformat_minor": 5
}
